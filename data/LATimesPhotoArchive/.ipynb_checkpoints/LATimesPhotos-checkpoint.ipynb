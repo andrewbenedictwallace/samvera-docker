{
 "cells": [
  {
   "cell_type": "code",
   "execution_count": 22,
   "metadata": {
    "collapsed": true
   },
   "outputs": [],
   "source": []
  },
  {
   "cell_type": "code",
   "execution_count": 24,
   "metadata": {},
   "outputs": [
    {
     "name": "stdout",
     "output_type": "stream",
     "text": [
      "http://digital2.library.ucla.edu/viewItem.do?ark=21198%2Fzz0002np7z&pager.offset=0&viewType=1&maxPageItems=50\n",
      "http://digital2.library.ucla.edu/viewItem.do?ark=21198%2Fzz0002np7z&pager.offset=50&viewType=1&maxPageItems=50\n"
     ]
    }
   ],
   "source": []
  },
  {
   "cell_type": "code",
   "execution_count": 37,
   "metadata": {},
   "outputs": [
    {
     "name": "stdout",
     "output_type": "stream",
     "text": [
      "http://digital2.library.ucla.edu/viewItem.do?ark=21198/zz002cp82h\n",
      "http://digital2.library.ucla.edu/viewItem.do?ark=21198/zz002cnpch\n",
      "http://digital2.library.ucla.edu/viewItem.do?ark=21198/zz002cnpd1\n",
      "http://digital2.library.ucla.edu/viewItem.do?ark=21198/zz002cnp6x\n",
      "http://digital2.library.ucla.edu/viewItem.do?ark=21198/zz002cp20k\n",
      "http://digital2.library.ucla.edu/viewItem.do?ark=21198/zz002cpbxd\n",
      "http://digital2.library.ucla.edu/viewItem.do?ark=21198/zz002cpccm\n",
      "http://digital2.library.ucla.edu/viewItem.do?ark=21198/zz002cp0r0\n",
      "http://digital2.library.ucla.edu/viewItem.do?ark=21198/zz002hnjjt\n",
      "http://digital2.library.ucla.edu/viewItem.do?ark=21198/zz002hnmc6\n",
      "http://digital2.library.ucla.edu/viewItem.do?ark=21198/zz002hnmbp\n",
      "http://digital2.library.ucla.edu/viewItem.do?ark=21198/zz002cp7sw\n",
      "http://digital2.library.ucla.edu/viewItem.do?ark=21198/zz002cnxjg\n",
      "http://digital2.library.ucla.edu/viewItem.do?ark=21198/zz002hnmpv\n",
      "http://digital2.library.ucla.edu/viewItem.do?ark=21198/zz002hnmmt\n",
      "http://digital2.library.ucla.edu/viewItem.do?ark=21198/zz002hnm11\n",
      "http://digital2.library.ucla.edu/viewItem.do?ark=21198/zz002hnm0h\n",
      "http://digital2.library.ucla.edu/viewItem.do?ark=21198/zz002hnjpw\n",
      "http://digital2.library.ucla.edu/viewItem.do?ark=21198/zz002cp2f9\n",
      "http://digital2.library.ucla.edu/viewItem.do?ark=21198/zz002hnkhs\n",
      "http://digital2.library.ucla.edu/viewItem.do?ark=21198/zz002hnksx\n",
      "http://digital2.library.ucla.edu/viewItem.do?ark=21198/zz002hnnhr\n",
      "http://digital2.library.ucla.edu/viewItem.do?ark=21198/zz002cp99m\n",
      "http://digital2.library.ucla.edu/viewItem.do?ark=21198/zz002cmnb2\n",
      "http://digital2.library.ucla.edu/viewItem.do?ark=21198/zz002hbpgp\n",
      "http://digital2.library.ucla.edu/viewItem.do?ark=21198/zz002hnmrw\n",
      "http://digital2.library.ucla.edu/viewItem.do?ark=21198/zz002hnjc7\n",
      "http://digital2.library.ucla.edu/viewItem.do?ark=21198/zz002cnpvr\n",
      "http://digital2.library.ucla.edu/viewItem.do?ark=21198/zz002cnz8t\n",
      "http://digital2.library.ucla.edu/viewItem.do?ark=21198/zz002hnmsd\n",
      "http://digital2.library.ucla.edu/viewItem.do?ark=21198/zz002hnjz1\n",
      "http://digital2.library.ucla.edu/viewItem.do?ark=21198/zz002cp9zf\n",
      "http://digital2.library.ucla.edu/viewItem.do?ark=21198/zz002cnpxs\n",
      "http://digital2.library.ucla.edu/viewItem.do?ark=21198/zz002h8p4m\n",
      "http://digital2.library.ucla.edu/viewItem.do?ark=21198/zz002cp2nd\n",
      "http://digital2.library.ucla.edu/viewItem.do?ark=21198/zz002cp4jt\n",
      "http://digital2.library.ucla.edu/viewItem.do?ark=21198/zz002cnp3c\n",
      "http://digital2.library.ucla.edu/viewItem.do?ark=21198/zz002cp4bq\n",
      "http://digital2.library.ucla.edu/viewItem.do?ark=21198/zz002cnz58\n",
      "http://digital2.library.ucla.edu/viewItem.do?ark=21198/zz002cnn6f\n",
      "http://digital2.library.ucla.edu/viewItem.do?ark=21198/zz002cnn8g\n",
      "http://digital2.library.ucla.edu/viewItem.do?ark=21198/zz002cpbsb\n",
      "http://digital2.library.ucla.edu/viewItem.do?ark=21198/zz002cnpb0\n",
      "http://digital2.library.ucla.edu/viewItem.do?ark=21198/zz002cp7zg\n",
      "http://digital2.library.ucla.edu/viewItem.do?ark=21198/zz002cnpp5\n",
      "http://digital2.library.ucla.edu/viewItem.do?ark=21198/zz002cnj5g\n",
      "http://digital2.library.ucla.edu/viewItem.do?ark=21198/zz002cp35n\n",
      "http://digital2.library.ucla.edu/viewItem.do?ark=21198/zz002cp39q\n",
      "http://digital2.library.ucla.edu/viewItem.do?ark=21198/zz002cnz16\n",
      "http://digital2.library.ucla.edu/viewItem.do?ark=21198/zz002cp19r\n"
     ]
    }
   ],
   "source": []
  },
  {
   "cell_type": "code",
   "execution_count": 29,
   "metadata": {},
   "outputs": [
    {
     "data": {
      "text/plain": [
       "['CONTEXT_CHROME',\n",
       " 'CONTEXT_CONTENT',\n",
       " 'NATIVE_EVENTS_ALLOWED',\n",
       " '__class__',\n",
       " '__delattr__',\n",
       " '__dict__',\n",
       " '__dir__',\n",
       " '__doc__',\n",
       " '__eq__',\n",
       " '__format__',\n",
       " '__ge__',\n",
       " '__getattribute__',\n",
       " '__gt__',\n",
       " '__hash__',\n",
       " '__init__',\n",
       " '__init_subclass__',\n",
       " '__le__',\n",
       " '__lt__',\n",
       " '__module__',\n",
       " '__ne__',\n",
       " '__new__',\n",
       " '__reduce__',\n",
       " '__reduce_ex__',\n",
       " '__repr__',\n",
       " '__setattr__',\n",
       " '__sizeof__',\n",
       " '__str__',\n",
       " '__subclasshook__',\n",
       " '__weakref__',\n",
       " '_file_detector',\n",
       " '_is_remote',\n",
       " '_mobile',\n",
       " '_switch_to',\n",
       " '_unwrap_value',\n",
       " '_web_element_cls',\n",
       " '_wrap_value',\n",
       " 'add_cookie',\n",
       " 'application_cache',\n",
       " 'back',\n",
       " 'binary',\n",
       " 'capabilities',\n",
       " 'close',\n",
       " 'command_executor',\n",
       " 'context',\n",
       " 'create_web_element',\n",
       " 'current_url',\n",
       " 'current_window_handle',\n",
       " 'delete_all_cookies',\n",
       " 'delete_cookie',\n",
       " 'desired_capabilities',\n",
       " 'error_handler',\n",
       " 'execute',\n",
       " 'execute_async_script',\n",
       " 'execute_script',\n",
       " 'file_detector',\n",
       " 'file_detector_context',\n",
       " 'find_element',\n",
       " 'find_element_by_class_name',\n",
       " 'find_element_by_css_selector',\n",
       " 'find_element_by_id',\n",
       " 'find_element_by_link_text',\n",
       " 'find_element_by_name',\n",
       " 'find_element_by_partial_link_text',\n",
       " 'find_element_by_tag_name',\n",
       " 'find_element_by_xpath',\n",
       " 'find_elements',\n",
       " 'find_elements_by_class_name',\n",
       " 'find_elements_by_css_selector',\n",
       " 'find_elements_by_id',\n",
       " 'find_elements_by_link_text',\n",
       " 'find_elements_by_name',\n",
       " 'find_elements_by_partial_link_text',\n",
       " 'find_elements_by_tag_name',\n",
       " 'find_elements_by_xpath',\n",
       " 'firefox_profile',\n",
       " 'forward',\n",
       " 'fullscreen_window',\n",
       " 'get',\n",
       " 'get_cookie',\n",
       " 'get_cookies',\n",
       " 'get_log',\n",
       " 'get_screenshot_as_base64',\n",
       " 'get_screenshot_as_file',\n",
       " 'get_screenshot_as_png',\n",
       " 'get_window_position',\n",
       " 'get_window_rect',\n",
       " 'get_window_size',\n",
       " 'implicitly_wait',\n",
       " 'install_addon',\n",
       " 'log_types',\n",
       " 'maximize_window',\n",
       " 'minimize_window',\n",
       " 'mobile',\n",
       " 'name',\n",
       " 'orientation',\n",
       " 'page_source',\n",
       " 'profile',\n",
       " 'quit',\n",
       " 'refresh',\n",
       " 'save_screenshot',\n",
       " 'service',\n",
       " 'session_id',\n",
       " 'set_context',\n",
       " 'set_page_load_timeout',\n",
       " 'set_script_timeout',\n",
       " 'set_window_position',\n",
       " 'set_window_rect',\n",
       " 'set_window_size',\n",
       " 'start_client',\n",
       " 'start_session',\n",
       " 'stop_client',\n",
       " 'switch_to',\n",
       " 'switch_to_active_element',\n",
       " 'switch_to_alert',\n",
       " 'switch_to_default_content',\n",
       " 'switch_to_frame',\n",
       " 'switch_to_window',\n",
       " 'title',\n",
       " 'uninstall_addon',\n",
       " 'w3c',\n",
       " 'window_handles']"
      ]
     },
     "execution_count": 29,
     "metadata": {},
     "output_type": "execute_result"
    }
   ],
   "source": [
    "dir(driver)"
   ]
  },
  {
   "cell_type": "markdown",
   "metadata": {},
   "source": [
    "## PyMongo"
   ]
  },
  {
   "cell_type": "code",
   "execution_count": 1,
   "metadata": {
    "collapsed": true
   },
   "outputs": [],
   "source": [
    "from pymongo import MongoClient\n",
    "client = MongoClient('127.0.0.1', 27017)"
   ]
  },
  {
   "cell_type": "code",
   "execution_count": 3,
   "metadata": {},
   "outputs": [
    {
     "data": {
      "text/plain": [
       "'page_url_1'"
      ]
     },
     "execution_count": 3,
     "metadata": {},
     "output_type": "execute_result"
    }
   ],
   "source": [
    "db = client['dl_collection']\n",
    "collection = db['images']\n",
    "collection.create_index(\"page_url\", unique=True)"
   ]
  },
  {
   "cell_type": "markdown",
   "metadata": {},
   "source": [
    "posts = db['posts']\n",
    "post_id = posts.insert_one(post).inserted_id\n",
    "post_id"
   ]
  },
  {
   "cell_type": "markdown",
   "metadata": {
    "collapsed": true
   },
   "source": [
    "## ~~lxml + Requests~~\n",
    "## Selenium: Get Index of all Items"
   ]
  },
  {
   "cell_type": "code",
   "execution_count": 83,
   "metadata": {},
   "outputs": [],
   "source": [
    "from selenium import webdriver\n",
    "from selenium.webdriver.common.keys import Keys\n",
    "\n",
    "\n",
    "driver = webdriver.Firefox()"
   ]
  },
  {
   "cell_type": "code",
   "execution_count": 145,
   "metadata": {},
   "outputs": [],
   "source": [
    "def harvest_index_page(driver):\n",
    "    return [\n",
    "        {\n",
    "            'title': record.find_element_by_css_selector('a.searchTitle').text,\n",
    "            'page_url': record.find_element_by_css_selector('a.searchTitle').get_property('href'),\n",
    "        }\n",
    "        for record in driver.find_elements_by_class_name('record-entry-cell')\n",
    "    ]"
   ]
  },
  {
   "cell_type": "code",
   "execution_count": 144,
   "metadata": {},
   "outputs": [
    {
     "name": "stdout",
     "output_type": "stream",
     "text": [
      "Getting http://digital2.library.ucla.edu/viewItem.do?ark=21198%2Fzz0002np7z&pager.offset=0&viewType=1&maxPageItems=50...\n",
      "Processing...\n",
      "{'title': '\"100% American\" float at the Tournament of Roses Parade, Pasadena, 1936', 'link': 'http://digital2.library.ucla.edu/viewItem.do?ark=21198/zz002hnjf8'}\n"
     ]
    },
    {
     "ename": "KeyError",
     "evalue": "'page_url'",
     "output_type": "error",
     "traceback": [
      "\u001b[0;31m---------------------------------------------------------------------------\u001b[0m",
      "\u001b[0;31mKeyError\u001b[0m                                  Traceback (most recent call last)",
      "\u001b[0;32m<ipython-input-144-8b484be51ea9>\u001b[0m in \u001b[0;36m<module>\u001b[0;34m()\u001b[0m\n\u001b[1;32m     12\u001b[0m     \u001b[0;32mfor\u001b[0m \u001b[0mrecord\u001b[0m \u001b[0;32min\u001b[0m \u001b[0mharvest_index_page\u001b[0m\u001b[0;34m(\u001b[0m\u001b[0mdriver\u001b[0m\u001b[0;34m)\u001b[0m\u001b[0;34m:\u001b[0m\u001b[0;34m\u001b[0m\u001b[0m\n\u001b[1;32m     13\u001b[0m         \u001b[0mprint\u001b[0m\u001b[0;34m(\u001b[0m\u001b[0mrecord\u001b[0m\u001b[0;34m)\u001b[0m\u001b[0;34m\u001b[0m\u001b[0m\n\u001b[0;32m---> 14\u001b[0;31m         \u001b[0mfilter\u001b[0m \u001b[0;34m=\u001b[0m \u001b[0;34m{\u001b[0m\u001b[0;34m'page_url'\u001b[0m\u001b[0;34m:\u001b[0m \u001b[0mrecord\u001b[0m\u001b[0;34m.\u001b[0m\u001b[0mpop\u001b[0m\u001b[0;34m(\u001b[0m\u001b[0;34m'page_url'\u001b[0m\u001b[0;34m)\u001b[0m\u001b[0;34m}\u001b[0m\u001b[0;34m\u001b[0m\u001b[0m\n\u001b[0m\u001b[1;32m     15\u001b[0m         \u001b[0mresult\u001b[0m \u001b[0;34m=\u001b[0m \u001b[0mcollection\u001b[0m\u001b[0;34m.\u001b[0m\u001b[0mupdate_one\u001b[0m\u001b[0;34m(\u001b[0m\u001b[0mfilter\u001b[0m\u001b[0;34m,\u001b[0m \u001b[0mrecord\u001b[0m\u001b[0;34m)\u001b[0m\u001b[0;34m\u001b[0m\u001b[0m\n\u001b[1;32m     16\u001b[0m         \u001b[0mids\u001b[0m\u001b[0;34m.\u001b[0m\u001b[0mextend\u001b[0m\u001b[0;34m(\u001b[0m\u001b[0mresult\u001b[0m\u001b[0;34m.\u001b[0m\u001b[0minserted_id\u001b[0m\u001b[0;34m)\u001b[0m\u001b[0;34m\u001b[0m\u001b[0m\n",
      "\u001b[0;31mKeyError\u001b[0m: 'page_url'"
     ]
    }
   ],
   "source": [
    "nresults = 14129\n",
    "maxPageItems = 50\n",
    "\n",
    "ids = set()\n",
    "for offset in range(0, 1*maxPageItems, maxPageItems):\n",
    "    url = f'http://digital2.library.ucla.edu/viewItem.do?ark=21198%2Fzz0002np7z&pager.offset={offset}&viewType=1&maxPageItems={maxPageItems}'\n",
    "    \n",
    "    print(f'Getting {url}...')\n",
    "#     driver.get(url)\n",
    "    \n",
    "    print('Processing...')\n",
    "    for record in harvest_index_page(driver):\n",
    "        print(record)\n",
    "        filter = {'page_url': record.pop('page_url')}\n",
    "        result = collection.update_one(filter, record)\n",
    "        ids.extend(result.inserted_id)"
   ]
  },
  {
   "cell_type": "code",
   "execution_count": 143,
   "metadata": {},
   "outputs": [
    {
     "ename": "TypeError",
     "evalue": "popitem() takes no arguments (1 given)",
     "output_type": "error",
     "traceback": [
      "\u001b[0;31m---------------------------------------------------------------------------\u001b[0m",
      "\u001b[0;31mTypeError\u001b[0m                                 Traceback (most recent call last)",
      "\u001b[0;32m<ipython-input-143-3dda12950a93>\u001b[0m in \u001b[0;36m<module>\u001b[0;34m()\u001b[0m\n\u001b[0;32m----> 1\u001b[0;31m \u001b[0;34m{\u001b[0m\u001b[0;36m1\u001b[0m\u001b[0;34m:\u001b[0m\u001b[0;36m2\u001b[0m\u001b[0;34m,\u001b[0m \u001b[0;36m3\u001b[0m\u001b[0;34m:\u001b[0m\u001b[0;36m4\u001b[0m\u001b[0;34m}\u001b[0m\u001b[0;34m.\u001b[0m\u001b[0mpopitem\u001b[0m\u001b[0;34m(\u001b[0m\u001b[0;36m3\u001b[0m\u001b[0;34m)\u001b[0m\u001b[0;34m\u001b[0m\u001b[0m\n\u001b[0m",
      "\u001b[0;31mTypeError\u001b[0m: popitem() takes no arguments (1 given)"
     ]
    }
   ],
   "source": [
    "{1:2, 3:4}.popitem(3)"
   ]
  },
  {
   "cell_type": "code",
   "execution_count": 134,
   "metadata": {},
   "outputs": [
    {
     "data": {
      "text/plain": [
       "[{'link': 'http://digital2.library.ucla.edu/viewItem.do?ark=21198/zz002hnjf8',\n",
       "  'title': '\"100% American\" float at the Tournament of Roses Parade, Pasadena, 1936'},\n",
       " {'link': 'http://digital2.library.ucla.edu/viewItem.do?ark=21198/zz002hnn00',\n",
       "  'title': '\"100% American\" float at the Tournament of Roses Parade, Pasadena, 1936'},\n",
       " {'link': 'http://digital2.library.ucla.edu/viewItem.do?ark=21198/zz002cp7td',\n",
       "  'title': '\"A Castle in Spain\" float in the Tournament of Roses Parade, Pasadena, 1933'},\n",
       " {'link': 'http://digital2.library.ucla.edu/viewItem.do?ark=21198/zz002cnpm4',\n",
       "  'title': '\"A Castle in Spain\" float in the Tournament of Roses Parade, Pasadena, 1933'},\n",
       " {'link': 'http://digital2.library.ucla.edu/viewItem.do?ark=21198/zz002cp454',\n",
       "  'title': '\"A Child\\'s Dream\" float in the Tournament of Roses Parade, Pasadena, 1931'},\n",
       " {'link': 'http://digital2.library.ucla.edu/viewItem.do?ark=21198/zz002cp44m',\n",
       "  'title': '\"A Dream of Beauty Enthroned\" float in the Tournament of Roses Parade, Pasadena, 1931'},\n",
       " {'link': 'http://digital2.library.ucla.edu/viewItem.do?ark=21198/zz002cp475',\n",
       "  'title': '\"A Dream of Commercial Progress\" float in the Tournament of Roses Parade, Pasadena, 1931'},\n",
       " {'link': 'http://digital2.library.ucla.edu/viewItem.do?ark=21198/zz002cpc1f',\n",
       "  'title': '\"A Midsummer Night\\'s Dream\" float in the Tournament of Roses Parade, Pasadena, 1935'},\n",
       " {'link': 'http://digital2.library.ucla.edu/viewItem.do?ark=21198/zz002cnwt4',\n",
       "  'title': '\"A Sea of Sand\" float in the Tournament of Roses Parade, Pasadena, 1934'},\n",
       " {'link': 'http://digital2.library.ucla.edu/viewItem.do?ark=21198/zz002cp695',\n",
       "  'title': '\"A Vista Calavo\" float in the Tournament of Roses Parade, Pasadena, 1932'},\n",
       " {'link': 'http://digital2.library.ucla.edu/viewItem.do?ark=21198/zz002cnvh0',\n",
       "  'title': '\"Adohr-able Nymphs\" float in the Tournament of Roses Parade, Pasadena, 1934'},\n",
       " {'link': 'http://digital2.library.ucla.edu/viewItem.do?ark=21198/zz002cp68n',\n",
       "  'title': '\"Adohrable Babies\" float in the Tournament of Roses Parade, Pasadena, 1932'},\n",
       " {'link': 'http://digital2.library.ucla.edu/viewItem.do?ark=21198/zz002cp46n',\n",
       "  'title': '\"Adventure\" airplane float in the Tournament of Roses Parade, Pasadena, 1931'},\n",
       " {'link': 'http://digital2.library.ucla.edu/viewItem.do?ark=21198/zz002cp8pt',\n",
       "  'title': '\"Alice in Wonderland\" float in the Tournament of Roses Parade, Pasadena, 1933'},\n",
       " {'link': 'http://digital2.library.ucla.edu/viewItem.do?ark=21198/zz002cnnk4',\n",
       "  'title': '\"Alice in Wonderland\" float in the Tournament of Roses Parade, Pasadena, 1933'},\n",
       " {'link': 'http://digital2.library.ucla.edu/viewItem.do?ark=21198/zz002cp6f7',\n",
       "  'title': '\"Anglo-American Friendship\" float in the Tournament of Roses Parade, Pasadena, 1932'},\n",
       " {'link': 'http://digital2.library.ucla.edu/viewItem.do?ark=21198/zz0002qqqk',\n",
       "  'title': '\"Annie\" cast member Michele De Cuir in schoolroom backstage at Shubert Theatre, Calif., 1979'},\n",
       " {'link': 'http://digital2.library.ucla.edu/viewItem.do?ark=21198/zz002cp5zh',\n",
       "  'title': '\"Aphrodite\" float in the Tournament of Roses Parade, Pasadena, 1932'},\n",
       " {'link': 'http://digital2.library.ucla.edu/viewItem.do?ark=21198/zz002dds4m',\n",
       "  'title': '\"Apple Annie\" next to her fruit stand the day after a robbery, Los Angeles, 1935'},\n",
       " {'link': 'http://digital2.library.ucla.edu/viewItem.do?ark=21198/zz002cnt4t',\n",
       "  'title': '\"Argonauts\" float in the Tournament of Roses Parade, Pasadena, 1934'},\n",
       " {'link': 'http://digital2.library.ucla.edu/viewItem.do?ark=21198/zz002cp983',\n",
       "  'title': '\"Arrowhead Legend\" float in the Tournament of Roses Parade, Pasadena, 1935'},\n",
       " {'link': 'http://digital2.library.ucla.edu/viewItem.do?ark=21198/zz002cp8gq',\n",
       "  'title': '\"Atlantis\" float in the Tournament Roses Parade, Pasadena, 1934'},\n",
       " {'link': 'http://digital2.library.ucla.edu/viewItem.do?ark=21198/zz002hnk43',\n",
       "  'title': '\"Australia\" float at the Tournament of Roses Parade, Pasadena, 1936'},\n",
       " {'link': 'http://digital2.library.ucla.edu/viewItem.do?ark=21198/zz002hnk3k',\n",
       "  'title': '\"Australia\" float at the Tournament of Roses Parade, Pasadena, 1936'},\n",
       " {'link': 'http://digital2.library.ucla.edu/viewItem.do?ark=21198/zz002hnmdq',\n",
       "  'title': '\"Australia\" float at the Tournament of Roses Parade, Pasadena, 1936'},\n",
       " {'link': 'http://digital2.library.ucla.edu/viewItem.do?ark=21198/zz002cp6z0',\n",
       "  'title': '\"Banks\" float in the Tournament of Roses Parade, Pasadena, 1932'},\n",
       " {'link': 'http://digital2.library.ucla.edu/viewItem.do?ark=21198/zz002cpbps',\n",
       "  'title': '\"Bellerophon & the Chimera\" float in the Tournament of Roses Parade, Pasadena, 1935'},\n",
       " {'link': 'http://digital2.library.ucla.edu/viewItem.do?ark=21198/zz002cnxtm',\n",
       "  'title': '\"Bells of the Sea\" float in the Tournament of Roses Parade, Pasadena, 1927'},\n",
       " {'link': 'http://digital2.library.ucla.edu/viewItem.do?ark=21198/zz002hnkg8',\n",
       "  'title': '\"Benjamin Franklin\" and \"Pioneer Memorial\" floats at the Tournament of Roses Parade, Pasadena, 1936'},\n",
       " {'link': 'http://digital2.library.ucla.edu/viewItem.do?ark=21198/zz002hnnb5',\n",
       "  'title': '\"Benjamin Franklin\" float at the Tournament of Roses Parade, Pasadena, 1936'},\n",
       " {'link': 'http://digital2.library.ucla.edu/viewItem.do?ark=21198/zz002cpc9k',\n",
       "  'title': '\"Birds of Paradise\" float in the Tournament of Roses Parade, Pasadena, 1935'},\n",
       " {'link': 'http://digital2.library.ucla.edu/viewItem.do?ark=21198/zz002cpbvc',\n",
       "  'title': '\"Birds of Paradise\" float in the Tournament of Roses Parade, Pasadena, 1935'},\n",
       " {'link': 'http://digital2.library.ucla.edu/viewItem.do?ark=21198/zz002hnjtz',\n",
       "  'title': '\"Birth of the American Flag\" float at the Tournament of Roses Parade, Pasadena, 1936'},\n",
       " {'link': 'http://digital2.library.ucla.edu/viewItem.do?ark=21198/zz002hnmk9',\n",
       "  'title': '\"Birth of the American Flag\" float at the Tournament of Roses Parade, Pasadena, 1936'},\n",
       " {'link': 'http://digital2.library.ucla.edu/viewItem.do?ark=21198/zz002cp056',\n",
       "  'title': '\"Blazing the Trail Westward\" float in the Tournament of Roses Parade, Pasadena, 1928'},\n",
       " {'link': 'http://digital2.library.ucla.edu/viewItem.do?ark=21198/zz002cp02n',\n",
       "  'title': '\"Blazing the Trail Westward\" float in the Tournament of Roses Parade, Pasadena, 1928'},\n",
       " {'link': 'http://digital2.library.ucla.edu/viewItem.do?ark=21198/zz002cp0fb',\n",
       "  'title': '\"Blue Boy\" float in the Tournament of Roses Parade, Pasadena, 1928'},\n",
       " {'link': 'http://digital2.library.ucla.edu/viewItem.do?ark=21198/zz002cp674',\n",
       "  'title': '\"Boxing Ring\" float in the Tournament of Roses Parade, Pasadena, 1932'},\n",
       " {'link': 'http://digital2.library.ucla.edu/viewItem.do?ark=21198/zz002h8p54',\n",
       "  'title': '\"Brass Bottle,\" \"Count Dean\" and \"Jack O\\'Spades\" finishing a race at Santa Anita Park, 1938'},\n",
       " {'link': 'http://digital2.library.ucla.edu/viewItem.do?ark=21198/zz002cnq7x',\n",
       "  'title': '\"Bride of the Sea\" float in the Tournament of Roses Parade, Pasadena, 1934'},\n",
       " {'link': 'http://digital2.library.ucla.edu/viewItem.do?ark=21198/zz002dh08x',\n",
       "  'title': '\"Butch\" Rogers and \"Champ\" Clark boxing at the Grand Olympic Auditorium, Los Angeles, 1935'},\n",
       " {'link': 'http://digital2.library.ucla.edu/viewItem.do?ark=21198/zz002dh09f',\n",
       "  'title': '\"Butch\" Rogers knocks down \"Champ\" Clark, Grand Olympic Auditorium, Los Angeles, 1935'},\n",
       " {'link': 'http://digital2.library.ucla.edu/viewItem.do?ark=21198/zz002cnq6d',\n",
       "  'title': '\"Cabrillo\" float in the Tournament of Roses Parade, Pasadena, 1934'},\n",
       " {'link': 'http://digital2.library.ucla.edu/viewItem.do?ark=21198/zz002cp2hb',\n",
       "  'title': '\"California Admission Day\" float in the Tournament of Roses Parade, Pasadena, 1930'},\n",
       " {'link': 'http://digital2.library.ucla.edu/viewItem.do?ark=21198/zz002cp95j',\n",
       "  'title': '\"California Poppies\" float in the Tournament of Roses Parade, Pasadena, 1935'},\n",
       " {'link': 'http://digital2.library.ucla.edu/viewItem.do?ark=21198/zz002cp2ds',\n",
       "  'title': '\"California Raisin Day\" float in the Tournament of Roses Parade, Pasadena, 1930'},\n",
       " {'link': 'http://digital2.library.ucla.edu/viewItem.do?ark=21198/zz002ddv0h',\n",
       "  'title': '\"Call of the Battalion,\" Covered Wagon scene, at the Pioneer Day Festival in Centinela Park, Inglewood, 1935'},\n",
       " {'link': 'http://digital2.library.ucla.edu/viewItem.do?ark=21198/zz002ddv32',\n",
       "  'title': '\"Call of the Battalion,\" Odometer scene, at the Pioneer Day Festival in Centinela Park, Inglewood, 1935'},\n",
       " {'link': 'http://digital2.library.ucla.edu/viewItem.do?ark=21198/zz002ddv2j',\n",
       "  'title': '\"Call of the Battalion,\" Push Cart scene, at the Pioneer Day Festival in Centinela Park, Inglewood, 1935'},\n",
       " {'link': 'http://digital2.library.ucla.edu/viewItem.do?ark=21198/zz002cp6js',\n",
       "  'title': '\"Camp Baldy\" float in the Tournament of Roses Parade, Pasadena, 1932'}]"
      ]
     },
     "execution_count": 134,
     "metadata": {},
     "output_type": "execute_result"
    }
   ],
   "source": [
    "records"
   ]
  },
  {
   "cell_type": "code",
   "execution_count": 119,
   "metadata": {},
   "outputs": [
    {
     "data": {
      "text/plain": [
       "'http://digital2.library.ucla.edu/dlcontent/latimes/nails/uclamss_1429_13362.jpg'"
      ]
     },
     "execution_count": 119,
     "metadata": {},
     "output_type": "execute_result"
    }
   ],
   "source": [
    "thumbnail_urlparser.match(url).group()"
   ]
  },
  {
   "cell_type": "code",
   "execution_count": 49,
   "metadata": {},
   "outputs": [
    {
     "data": {
      "text/plain": [
       "[{'thumbnail_url': []},\n",
       " {'thumbnail_url': []},\n",
       " {'thumbnail_url': []},\n",
       " {'thumbnail_url': []},\n",
       " {'thumbnail_url': []},\n",
       " {'thumbnail_url': []},\n",
       " {'thumbnail_url': []},\n",
       " {'thumbnail_url': []},\n",
       " {'thumbnail_url': []},\n",
       " {'thumbnail_url': []},\n",
       " {'thumbnail_url': []},\n",
       " {'thumbnail_url': []},\n",
       " {'thumbnail_url': []},\n",
       " {'thumbnail_url': []},\n",
       " {'thumbnail_url': []},\n",
       " {'thumbnail_url': []},\n",
       " {'thumbnail_url': []},\n",
       " {'thumbnail_url': []},\n",
       " {'thumbnail_url': []},\n",
       " {'thumbnail_url': []},\n",
       " {'thumbnail_url': []},\n",
       " {'thumbnail_url': []},\n",
       " {'thumbnail_url': []},\n",
       " {'thumbnail_url': []},\n",
       " {'thumbnail_url': []},\n",
       " {'thumbnail_url': []},\n",
       " {'thumbnail_url': []},\n",
       " {'thumbnail_url': []},\n",
       " {'thumbnail_url': []},\n",
       " {'thumbnail_url': []},\n",
       " {'thumbnail_url': []},\n",
       " {'thumbnail_url': []},\n",
       " {'thumbnail_url': []},\n",
       " {'thumbnail_url': []},\n",
       " {'thumbnail_url': []},\n",
       " {'thumbnail_url': []},\n",
       " {'thumbnail_url': []},\n",
       " {'thumbnail_url': []},\n",
       " {'thumbnail_url': []},\n",
       " {'thumbnail_url': []},\n",
       " {'thumbnail_url': []},\n",
       " {'thumbnail_url': []},\n",
       " {'thumbnail_url': []},\n",
       " {'thumbnail_url': []},\n",
       " {'thumbnail_url': []},\n",
       " {'thumbnail_url': []},\n",
       " {'thumbnail_url': []},\n",
       " {'thumbnail_url': []},\n",
       " {'thumbnail_url': []},\n",
       " {'thumbnail_url': []}]"
      ]
     },
     "execution_count": 49,
     "metadata": {},
     "output_type": "execute_result"
    }
   ],
   "source": [
    "\n",
    "[\n",
    "    {\n",
    "        'thumbnail_url': record.xpath('//div[@class=\"loading imgshell\"]//img')\n",
    "    }\n",
    "    for record in records\n",
    "]"
   ]
  },
  {
   "cell_type": "code",
   "execution_count": 50,
   "metadata": {
    "scrolled": true
   },
   "outputs": [
    {
     "data": {
      "text/plain": [
       "['__bool__',\n",
       " '__class__',\n",
       " '__contains__',\n",
       " '__copy__',\n",
       " '__deepcopy__',\n",
       " '__delattr__',\n",
       " '__delitem__',\n",
       " '__dict__',\n",
       " '__dir__',\n",
       " '__doc__',\n",
       " '__eq__',\n",
       " '__format__',\n",
       " '__ge__',\n",
       " '__getattribute__',\n",
       " '__getitem__',\n",
       " '__gt__',\n",
       " '__hash__',\n",
       " '__init__',\n",
       " '__init_subclass__',\n",
       " '__iter__',\n",
       " '__le__',\n",
       " '__len__',\n",
       " '__lt__',\n",
       " '__module__',\n",
       " '__ne__',\n",
       " '__new__',\n",
       " '__reduce__',\n",
       " '__reduce_ex__',\n",
       " '__repr__',\n",
       " '__reversed__',\n",
       " '__setattr__',\n",
       " '__setitem__',\n",
       " '__sizeof__',\n",
       " '__str__',\n",
       " '__subclasshook__',\n",
       " '__weakref__',\n",
       " '_init',\n",
       " 'addnext',\n",
       " 'addprevious',\n",
       " 'append',\n",
       " 'attrib',\n",
       " 'base',\n",
       " 'base_url',\n",
       " 'body',\n",
       " 'classes',\n",
       " 'clear',\n",
       " 'cssselect',\n",
       " 'drop_tag',\n",
       " 'drop_tree',\n",
       " 'extend',\n",
       " 'find',\n",
       " 'find_class',\n",
       " 'find_rel_links',\n",
       " 'findall',\n",
       " 'findtext',\n",
       " 'forms',\n",
       " 'get',\n",
       " 'get_element_by_id',\n",
       " 'getchildren',\n",
       " 'getiterator',\n",
       " 'getnext',\n",
       " 'getparent',\n",
       " 'getprevious',\n",
       " 'getroottree',\n",
       " 'head',\n",
       " 'index',\n",
       " 'insert',\n",
       " 'items',\n",
       " 'iter',\n",
       " 'iterancestors',\n",
       " 'iterchildren',\n",
       " 'iterdescendants',\n",
       " 'iterfind',\n",
       " 'iterlinks',\n",
       " 'itersiblings',\n",
       " 'itertext',\n",
       " 'keys',\n",
       " 'label',\n",
       " 'make_links_absolute',\n",
       " 'makeelement',\n",
       " 'nsmap',\n",
       " 'prefix',\n",
       " 'remove',\n",
       " 'replace',\n",
       " 'resolve_base_href',\n",
       " 'rewrite_links',\n",
       " 'set',\n",
       " 'sourceline',\n",
       " 'tag',\n",
       " 'tail',\n",
       " 'text',\n",
       " 'text_content',\n",
       " 'values',\n",
       " 'xpath']"
      ]
     },
     "execution_count": 50,
     "metadata": {},
     "output_type": "execute_result"
    }
   ],
   "source": [
    "dir(records[3])"
   ]
  },
  {
   "cell_type": "code",
   "execution_count": 81,
   "metadata": {},
   "outputs": [],
   "source": [
    "\n",
    "records[3].getroottree().write('test.html')"
   ]
  },
  {
   "cell_type": "code",
   "execution_count": 77,
   "metadata": {},
   "outputs": [
    {
     "data": {
      "text/plain": [
       "<Element html at 0x114305ef8>"
      ]
     },
     "execution_count": 77,
     "metadata": {},
     "output_type": "execute_result"
    }
   ],
   "source": [
    "lat_tree"
   ]
  },
  {
   "cell_type": "code",
   "execution_count": null,
   "metadata": {
    "collapsed": true
   },
   "outputs": [],
   "source": []
  }
 ],
 "metadata": {
  "kernelspec": {
   "display_name": "Python 3",
   "language": "python",
   "name": "python3"
  },
  "language_info": {
   "codemirror_mode": {
    "name": "ipython",
    "version": 3
   },
   "file_extension": ".py",
   "mimetype": "text/x-python",
   "name": "python",
   "nbconvert_exporter": "python",
   "pygments_lexer": "ipython3",
   "version": "3.6.1"
  }
 },
 "nbformat": 4,
 "nbformat_minor": 2
}
